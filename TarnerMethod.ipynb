{
 "cells": [
  {
   "cell_type": "markdown",
   "metadata": {
    "deletable": true,
    "editable": true
   },
   "source": [
    "# Método de Tarner"
   ]
  },
  {
   "cell_type": "code",
   "execution_count": null,
   "metadata": {
    "collapsed": false,
    "deletable": true,
    "editable": true
   },
   "outputs": [],
   "source": [
    "%matplotlib inline\n",
    "\n",
    "import pandas\n",
    "import qgrid\n",
    "import numpy\n",
    "import matplotlib.pyplot as plt\n",
    "from ipywidgets import interact, interactive\n",
    "from IPython.display import display\n",
    "\n",
    "qgrid.nbinstall(overwrite=True)  # copies javascript dependencies to your /nbextensions folder"
   ]
  },
  {
   "cell_type": "markdown",
   "metadata": {
    "deletable": true,
    "editable": true
   },
   "source": [
    "## Definição das entradas"
   ]
  },
  {
   "cell_type": "code",
   "execution_count": null,
   "metadata": {
    "collapsed": false,
    "deletable": true,
    "editable": true
   },
   "outputs": [],
   "source": [
    "Sw_i = 0.2\n",
    "\n",
    "pvt = pandas.DataFrame({\n",
    "    'P' : [260., 220., 180., 140., 100., 80., 60., 40.],\n",
    "    'Rs' : [100., 100., 100., 83., 66., 57., 49., 40.],\n",
    "    'Bo' : [1.310, 1.322, 1.333, 1.276, 1.221, 1.193, 1.162, 1.137],\n",
    "    'Bg' : [0.003846, 0.004545, 0.005556, 0.007143, 0.010000, 0.012500, 0.016667, 0.025000],\n",
    "    'uo' : [1.60, 1.55, 1.50, 1.61, 1.81, 2.01, 2.24, 2.68],\n",
    "    'ug' : [0.028, 0.026, 0.023, 0.020, 0.016, 0.014, 0.012, 0.010] })\n",
    "pvt.set_index('P', inplace=True)\n",
    "\n",
    "kro = pandas.Series([0.9000, 0.7300, 0.5000, 0.3280, 0.1700, 0.0736, 0.0209, 0.0011])\n",
    "krg = pandas.Series([0.0010, 0.0050, 0.0180, 0.0420, 0.0860, 0.1590, 0.2600, 0.3800])\n",
    "sliq = pandas.Series([0.96, 0.90, 0.80, 0.70, 0.60, 0.50, 0.40, 0.30])\n",
    "\n",
    "kr = pandas.DataFrame({\n",
    "    'Sliquido' : sliq,\n",
    "    'Kro' : kro,\n",
    "    'Krg' : krg,\n",
    "    'Kg/Ko' : [kg/ko for ko, kg in zip(kro, krg)] })\n",
    "kr.set_index('Sliquido', inplace=True)\n",
    "\n",
    "qgrid.show_grid(pvt)\n",
    "qgrid.show_grid(kr)\n",
    "\n",
    "plt.plot(sliq, kr['Kro'])\n",
    "plt.plot(sliq, kr['Krg'])\n",
    "\n",
    "plt.show()"
   ]
  },
  {
   "cell_type": "markdown",
   "metadata": {
    "deletable": true,
    "editable": true
   },
   "source": [
    "## Identificar pressão de bolha e erro tolerável"
   ]
  },
  {
   "cell_type": "code",
   "execution_count": null,
   "metadata": {
    "collapsed": false,
    "deletable": true,
    "editable": true
   },
   "outputs": [],
   "source": [
    "def set_pbubble(pbubble=180.0):\n",
    "    return float(pbubble)\n",
    "\n",
    "pbubble_combo = interactive(set_pbubble, pbubble=list(pvt.index))\n",
    "display(pbubble_combo)\n",
    "\n",
    "def set_tolerance(error=0.01):\n",
    "    return error\n",
    "\n",
    "error_selector = interactive(set_tolerance, error=(0.01, 1, 0.01))\n",
    "display(error_selector)"
   ]
  },
  {
   "cell_type": "markdown",
   "metadata": {
    "deletable": true,
    "editable": true
   },
   "source": [
    "## Métodos para calcular DeltaGp/N por balanço de massa"
   ]
  },
  {
   "cell_type": "code",
   "execution_count": null,
   "metadata": {
    "collapsed": false,
    "deletable": true,
    "editable": true
   },
   "outputs": [],
   "source": [
    "def calc_Rp(Bo, Bo_i, Bg, Rs, Rs_i, Np_N_ratio):\n",
    "    first_term = Bo - Bo_i + Bg*(Rs_i - Rs)\n",
    "    second_term = (Bo - Rs*Bg)*Np_N_ratio\n",
    "    quocient = Bg*Np_N_ratio\n",
    "    return (first_term - second_term)/quocient\n",
    "\n",
    "def calc_Gp_N_ratio(Np_N_ratio, Rp):\n",
    "    return Np_N_ratio*Rp"
   ]
  },
  {
   "cell_type": "markdown",
   "metadata": {
    "deletable": true,
    "editable": true
   },
   "source": [
    "## Métodos para calcular DeltaGp/N pela RGO"
   ]
  },
  {
   "cell_type": "code",
   "execution_count": null,
   "metadata": {
    "collapsed": false,
    "deletable": true,
    "editable": true
   },
   "outputs": [],
   "source": [
    "def calc_So(Np_N_ratio, Bo, Bo_i, Sw_i):\n",
    "    return (1-Np_N_ratio)*Bo*(1-Sw_i)/Bo_i\n",
    "\n",
    "def calc_Sliq(So, Sw_i):\n",
    "    return So + Sw_i\n",
    "\n",
    "def calc_Krg_Kro_ratio(kr_dataframe, Sliq):\n",
    "    kr_tmp = kr_dataframe.copy()\n",
    "    kr_tmp.loc[Sliq] = {\n",
    "        'Kro' : numpy.nan,\n",
    "        'Krg' : numpy.nan,\n",
    "        'Kg/Ko' : numpy.nan}\n",
    "\n",
    "    kr_tmp.sort_index(inplace=True)\n",
    "    kr_tmp.interpolate(method='values', inplace=True)\n",
    "    kr_tmp['Kg/Ko'][Sliq] = kr_tmp['Krg'][Sliq]/kr_tmp['Kro'][Sliq]\n",
    "    return kr_tmp['Kg/Ko'][Sliq]\n",
    "\n",
    "def calc_rgo(krg_kro_ratio, Rs, uo, ug, Bo, Bg):\n",
    "    return Rs + krg_kro_ratio*(uo/ug)*(Bo/Bg)"
   ]
  },
  {
   "cell_type": "markdown",
   "metadata": {
    "deletable": true,
    "editable": true
   },
   "source": [
    "## Estratégia para estimar Np/N\n",
    "\n",
    "![title](assets/DeltaGP_EBM_RGO.png)"
   ]
  },
  {
   "cell_type": "code",
   "execution_count": null,
   "metadata": {
    "collapsed": false,
    "deletable": true,
    "editable": true
   },
   "outputs": [],
   "source": [
    "class NpRatioEstimator(object):\n",
    "    def __init__(self, isCumulative=False):\n",
    "        super(NpRatioEstimator, self).__init__()\n",
    "        self.isCumulative = isCumulative\n",
    "        self.step = 0.0001\n",
    "        self.reset()\n",
    "    \n",
    "    def reset(self):\n",
    "        self.min_ratio = 0\n",
    "        self.max_ratio = 1\n",
    "        self.current_ratio = 0.1\n",
    "        \n",
    "    def next(self, delta_Gp_EBM, delta_Gp_RGO):\n",
    "        if self.isCumulative:\n",
    "            self.current_ratio += self.step\n",
    "        else:\n",
    "            if delta_Gp_EBM > delta_Gp_RGO:\n",
    "                if self.current_ratio > self.min_ratio:\n",
    "                    self.min_ratio = self.current_ratio\n",
    "            elif delta_Gp_EBM < delta_Gp_RGO:\n",
    "                if self.current_ratio < self.max_ratio:\n",
    "                    self.max_ratio = self.current_ratio\n",
    "        \n",
    "            self.current_ratio = (self.max_ratio + self.min_ratio)/2\n",
    "        return self.current_ratio"
   ]
  },
  {
   "cell_type": "markdown",
   "metadata": {
    "deletable": true,
    "editable": true
   },
   "source": [
    "## Método de Tarner"
   ]
  },
  {
   "cell_type": "code",
   "execution_count": null,
   "metadata": {
    "collapsed": false,
    "deletable": true,
    "editable": true
   },
   "outputs": [],
   "source": [
    "# Ordenar tabela PVT em ordem decrescente de pressão\n",
    "ordered_pvt = pvt.sort_index(ascending=False)\n",
    "pressures_desc_order = ordered_pvt.index\n",
    "\n",
    "# Obtém pressão de bolha escolhida no combobox\n",
    "pbubble = pbubble_combo.result\n",
    "p_index = pressures_desc_order.get_loc(pbubble)\n",
    "\n",
    "# Obtém valores de Rs e Bo na pressão de bolha\n",
    "Rs_i = pvt['Rs'][pbubble]\n",
    "Bo_i = pvt['Bo'][pbubble]\n",
    "\n",
    "#Variáveis da iteração anterior\n",
    "prev_Gp_N_ratio_EBM = 0\n",
    "prev_Np_N_ratio = 0\n",
    "prev_rgo = Rs_i\n",
    "\n",
    "#Variáveis da iteração atual\n",
    "Gp_N_ratio_EBM = 0\n",
    "Np_N_ratio = 0\n",
    "rgo = Rs_i\n",
    "\n",
    "# Tolerância definida na interface\n",
    "tolerance = error_selector.result\n",
    "\n",
    "# Dataframe contendo a resposta\n",
    "answer = pandas.DataFrame({\n",
    "    'P': [],\n",
    "    'Np/N': [],\n",
    "    'RGO': []\n",
    "})\n",
    "answer.set_index('P', inplace=True)\n",
    "\n",
    "# Inicializando estimador de Np/N\n",
    "estimator = NpRatioEstimator(False)\n",
    "\n",
    "for i in range(p_index + 1, pressures_desc_order.size):\n",
    "    # \"1) Faça n=n+1 e escolha uma pressão menor do que a anterior (Pn+1 < Pn)\"\n",
    "    pressure = pressures_desc_order[i]\n",
    "\n",
    "    # \"2) Com Pn+1 e a análise PVT obtemos Bo, Rs, Bg, μο e μg\"\n",
    "    pvt_data = ordered_pvt.iloc[i]\n",
    "\n",
    "    # Reseta as variáveis para a próxima iteração\n",
    "    delta_Gp_N_ratio_EBM = 0\n",
    "    delta_Gp_N_ratio_RGO = 0\n",
    "\n",
    "    prev_rgo = rgo\n",
    "    prev_Np_N_ratio = Np_N_ratio\n",
    "    prev_Gp_N_ratio_EBM = Gp_N_ratio_EBM\n",
    "\n",
    "    error = 1\n",
    "    estimator.reset()\n",
    "    \n",
    "    while error >= tolerance:\n",
    "        # \"3) Estimar Npn+1 > Npn\"\n",
    "        Np_N_ratio = estimator.next(delta_Gp_N_ratio_EBM, delta_Gp_N_ratio_RGO)\n",
    "\n",
    "        # \"4) Calcular a Rpn+1 usando Npn+1 e os dados PVT (Eq. 2.1)\"\n",
    "        Rp = calc_Rp(\n",
    "            pvt_data['Bo'],\n",
    "            Bo_i,\n",
    "            pvt_data['Bg'],\n",
    "            pvt_data['Rs'],\n",
    "            Rs_i,\n",
    "            Np_N_ratio\n",
    "        )\n",
    "\n",
    "        # \"5) Calcular Gpn+1 = Npn+1.Rpn+1\"\n",
    "        Gp_N_ratio_EBM = calc_Gp_N_ratio(Np_N_ratio, Rp)\n",
    "        \n",
    "        # \"6) Calcular ΔGp1 = Gpn+1 - Gpn\"\n",
    "        delta_Gp_N_ratio_EBM = Gp_N_ratio_EBM - prev_Gp_N_ratio_EBM\n",
    "\n",
    "        # \"7) Calcular a saturação de óleo (Eq. 3.4) e a de líquido (Sliq = So + Swi)\"\n",
    "        new_So = calc_So(\n",
    "            Np_N_ratio,\n",
    "            pvt_data['Bo'],\n",
    "            Bo_i,\n",
    "            Sw_i\n",
    "        )\n",
    "        new_Sliq = calc_Sliq(new_So, Sw_i)\n",
    "\n",
    "        # \"8) Com a Sliq obter (Krg/Kro) das curvas de permeabilidade relativa\"\n",
    "        new_Krg_Kro_ratio = calc_Krg_Kro_ratio(kr, new_Sliq)\n",
    "        \n",
    "        # \"9) Calcular a RGOn+1 usando (Krg/Kro) e os dados PVT (Eq. 5.4)\"\n",
    "        rgo = calc_rgo(\n",
    "            new_Krg_Kro_ratio, \n",
    "            pvt_data['Rs'],\n",
    "            pvt_data['uo'],\n",
    "            pvt_data['ug'],\n",
    "            pvt_data['Bo'],\n",
    "            pvt_data['Bg']\n",
    "        )\n",
    "\n",
    "        # \"10) Calcular a RGO média entre os tempos n e n+1: Rm = (RGOn+1+RGOn)/2\"\n",
    "        mean_rgo = (rgo + prev_rgo)/2\n",
    "        \n",
    "        # \"11) Calcular ΔGp2 = ΔNpn+1. Rm\"\n",
    "        delta_Gp_N_ratio_RGO = mean_rgo * (Np_N_ratio - prev_Np_N_ratio)\n",
    "\n",
    "        error = abs((delta_Gp_N_ratio_RGO - delta_Gp_N_ratio_EBM)/delta_Gp_N_ratio_EBM)\n",
    "\n",
    "    answer.loc[pressure] = {\n",
    "        'Np/N': Np_N_ratio,\n",
    "        'RGO': rgo\n",
    "    }            \n",
    "\n",
    "answer"
   ]
  }
 ],
 "metadata": {
  "celltoolbar": "Raw Cell Format",
  "kernelspec": {
   "display_name": "Python 3",
   "language": "python",
   "name": "python3"
  },
  "language_info": {
   "codemirror_mode": {
    "name": "ipython",
    "version": 3
   },
   "file_extension": ".py",
   "mimetype": "text/x-python",
   "name": "python",
   "nbconvert_exporter": "python",
   "pygments_lexer": "ipython3",
   "version": "3.5.1"
  },
  "widgets": {
   "state": {
    "18f8248d94e6479baeb0397e01de3a29": {
     "views": [
      {
       "cell_index": 4
      }
     ]
    },
    "708f9293eb9c41e18a926aeb555dd4dd": {
     "views": [
      {
       "cell_index": 7
      }
     ]
    },
    "e88de7edf57a4ded80e5126a12cbde99": {
     "views": [
      {
       "cell_index": 5
      }
     ]
    }
   },
   "version": "1.2.0"
  }
 },
 "nbformat": 4,
 "nbformat_minor": 0
}
